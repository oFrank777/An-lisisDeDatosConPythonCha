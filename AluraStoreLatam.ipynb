{
  "nbformat": 4,
  "nbformat_minor": 0,
  "metadata": {
    "colab": {
      "provenance": []
    },
    "kernelspec": {
      "name": "python3",
      "display_name": "Python 3"
    },
    "language_info": {
      "name": "python"
    }
  },
  "cells": [
    {
      "cell_type": "markdown",
      "source": [
        "### Importación de datos\n",
        "\n"
      ],
      "metadata": {
        "id": "RhEdWd9YUR6H"
      }
    },
    {
      "cell_type": "code",
      "execution_count": 51,
      "metadata": {
        "colab": {
          "base_uri": "https://localhost:8080/",
          "height": 206
        },
        "id": "T3EvaeQ_INIL",
        "outputId": "593d82dc-c467-456d-a071-176ca9fe10e0"
      },
      "outputs": [
        {
          "output_type": "execute_result",
          "data": {
            "text/plain": [
              "            Producto Categoría del Producto    Precio  Costo de envío  \\\n",
              "0  Asistente virtual           Electrónicos  164300.0          6900.0   \n",
              "1    Mesa de comedor                Muebles  192300.0          8400.0   \n",
              "2      Juego de mesa               Juguetes  209600.0         15900.0   \n",
              "3         Microondas      Electrodomésticos  757500.0         41000.0   \n",
              "4   Silla de oficina                Muebles  335200.0         20200.0   \n",
              "\n",
              "  Fecha de Compra         Vendedor Lugar de Compra  Calificación  \\\n",
              "0      16/01/2021      Pedro Gomez          Bogotá             4   \n",
              "1      18/05/2022  Beatriz Morales        Medellín             1   \n",
              "2      15/03/2021   Juan Fernandez       Cartagena             1   \n",
              "3      03/05/2022   Juan Fernandez            Cali             4   \n",
              "4      07/11/2020    Maria Alfonso        Medellín             5   \n",
              "\n",
              "       Método de pago  Cantidad de cuotas       lat       lon  \n",
              "0  Tarjeta de crédito                   8   4.60971 -74.08175  \n",
              "1  Tarjeta de crédito                   4   6.25184 -75.56359  \n",
              "2  Tarjeta de crédito                   1  10.39972 -75.51444  \n",
              "3               Nequi                   1   3.43722 -76.52250  \n",
              "4               Nequi                   1   6.25184 -75.56359  "
            ],
            "text/html": [
              "\n",
              "  <div id=\"df-7dc297aa-17e8-4f82-acb3-614f02141a3d\" class=\"colab-df-container\">\n",
              "    <div>\n",
              "<style scoped>\n",
              "    .dataframe tbody tr th:only-of-type {\n",
              "        vertical-align: middle;\n",
              "    }\n",
              "\n",
              "    .dataframe tbody tr th {\n",
              "        vertical-align: top;\n",
              "    }\n",
              "\n",
              "    .dataframe thead th {\n",
              "        text-align: right;\n",
              "    }\n",
              "</style>\n",
              "<table border=\"1\" class=\"dataframe\">\n",
              "  <thead>\n",
              "    <tr style=\"text-align: right;\">\n",
              "      <th></th>\n",
              "      <th>Producto</th>\n",
              "      <th>Categoría del Producto</th>\n",
              "      <th>Precio</th>\n",
              "      <th>Costo de envío</th>\n",
              "      <th>Fecha de Compra</th>\n",
              "      <th>Vendedor</th>\n",
              "      <th>Lugar de Compra</th>\n",
              "      <th>Calificación</th>\n",
              "      <th>Método de pago</th>\n",
              "      <th>Cantidad de cuotas</th>\n",
              "      <th>lat</th>\n",
              "      <th>lon</th>\n",
              "    </tr>\n",
              "  </thead>\n",
              "  <tbody>\n",
              "    <tr>\n",
              "      <th>0</th>\n",
              "      <td>Asistente virtual</td>\n",
              "      <td>Electrónicos</td>\n",
              "      <td>164300.0</td>\n",
              "      <td>6900.0</td>\n",
              "      <td>16/01/2021</td>\n",
              "      <td>Pedro Gomez</td>\n",
              "      <td>Bogotá</td>\n",
              "      <td>4</td>\n",
              "      <td>Tarjeta de crédito</td>\n",
              "      <td>8</td>\n",
              "      <td>4.60971</td>\n",
              "      <td>-74.08175</td>\n",
              "    </tr>\n",
              "    <tr>\n",
              "      <th>1</th>\n",
              "      <td>Mesa de comedor</td>\n",
              "      <td>Muebles</td>\n",
              "      <td>192300.0</td>\n",
              "      <td>8400.0</td>\n",
              "      <td>18/05/2022</td>\n",
              "      <td>Beatriz Morales</td>\n",
              "      <td>Medellín</td>\n",
              "      <td>1</td>\n",
              "      <td>Tarjeta de crédito</td>\n",
              "      <td>4</td>\n",
              "      <td>6.25184</td>\n",
              "      <td>-75.56359</td>\n",
              "    </tr>\n",
              "    <tr>\n",
              "      <th>2</th>\n",
              "      <td>Juego de mesa</td>\n",
              "      <td>Juguetes</td>\n",
              "      <td>209600.0</td>\n",
              "      <td>15900.0</td>\n",
              "      <td>15/03/2021</td>\n",
              "      <td>Juan Fernandez</td>\n",
              "      <td>Cartagena</td>\n",
              "      <td>1</td>\n",
              "      <td>Tarjeta de crédito</td>\n",
              "      <td>1</td>\n",
              "      <td>10.39972</td>\n",
              "      <td>-75.51444</td>\n",
              "    </tr>\n",
              "    <tr>\n",
              "      <th>3</th>\n",
              "      <td>Microondas</td>\n",
              "      <td>Electrodomésticos</td>\n",
              "      <td>757500.0</td>\n",
              "      <td>41000.0</td>\n",
              "      <td>03/05/2022</td>\n",
              "      <td>Juan Fernandez</td>\n",
              "      <td>Cali</td>\n",
              "      <td>4</td>\n",
              "      <td>Nequi</td>\n",
              "      <td>1</td>\n",
              "      <td>3.43722</td>\n",
              "      <td>-76.52250</td>\n",
              "    </tr>\n",
              "    <tr>\n",
              "      <th>4</th>\n",
              "      <td>Silla de oficina</td>\n",
              "      <td>Muebles</td>\n",
              "      <td>335200.0</td>\n",
              "      <td>20200.0</td>\n",
              "      <td>07/11/2020</td>\n",
              "      <td>Maria Alfonso</td>\n",
              "      <td>Medellín</td>\n",
              "      <td>5</td>\n",
              "      <td>Nequi</td>\n",
              "      <td>1</td>\n",
              "      <td>6.25184</td>\n",
              "      <td>-75.56359</td>\n",
              "    </tr>\n",
              "  </tbody>\n",
              "</table>\n",
              "</div>\n",
              "    <div class=\"colab-df-buttons\">\n",
              "\n",
              "  <div class=\"colab-df-container\">\n",
              "    <button class=\"colab-df-convert\" onclick=\"convertToInteractive('df-7dc297aa-17e8-4f82-acb3-614f02141a3d')\"\n",
              "            title=\"Convert this dataframe to an interactive table.\"\n",
              "            style=\"display:none;\">\n",
              "\n",
              "  <svg xmlns=\"http://www.w3.org/2000/svg\" height=\"24px\" viewBox=\"0 -960 960 960\">\n",
              "    <path d=\"M120-120v-720h720v720H120Zm60-500h600v-160H180v160Zm220 220h160v-160H400v160Zm0 220h160v-160H400v160ZM180-400h160v-160H180v160Zm440 0h160v-160H620v160ZM180-180h160v-160H180v160Zm440 0h160v-160H620v160Z\"/>\n",
              "  </svg>\n",
              "    </button>\n",
              "\n",
              "  <style>\n",
              "    .colab-df-container {\n",
              "      display:flex;\n",
              "      gap: 12px;\n",
              "    }\n",
              "\n",
              "    .colab-df-convert {\n",
              "      background-color: #E8F0FE;\n",
              "      border: none;\n",
              "      border-radius: 50%;\n",
              "      cursor: pointer;\n",
              "      display: none;\n",
              "      fill: #1967D2;\n",
              "      height: 32px;\n",
              "      padding: 0 0 0 0;\n",
              "      width: 32px;\n",
              "    }\n",
              "\n",
              "    .colab-df-convert:hover {\n",
              "      background-color: #E2EBFA;\n",
              "      box-shadow: 0px 1px 2px rgba(60, 64, 67, 0.3), 0px 1px 3px 1px rgba(60, 64, 67, 0.15);\n",
              "      fill: #174EA6;\n",
              "    }\n",
              "\n",
              "    .colab-df-buttons div {\n",
              "      margin-bottom: 4px;\n",
              "    }\n",
              "\n",
              "    [theme=dark] .colab-df-convert {\n",
              "      background-color: #3B4455;\n",
              "      fill: #D2E3FC;\n",
              "    }\n",
              "\n",
              "    [theme=dark] .colab-df-convert:hover {\n",
              "      background-color: #434B5C;\n",
              "      box-shadow: 0px 1px 3px 1px rgba(0, 0, 0, 0.15);\n",
              "      filter: drop-shadow(0px 1px 2px rgba(0, 0, 0, 0.3));\n",
              "      fill: #FFFFFF;\n",
              "    }\n",
              "  </style>\n",
              "\n",
              "    <script>\n",
              "      const buttonEl =\n",
              "        document.querySelector('#df-7dc297aa-17e8-4f82-acb3-614f02141a3d button.colab-df-convert');\n",
              "      buttonEl.style.display =\n",
              "        google.colab.kernel.accessAllowed ? 'block' : 'none';\n",
              "\n",
              "      async function convertToInteractive(key) {\n",
              "        const element = document.querySelector('#df-7dc297aa-17e8-4f82-acb3-614f02141a3d');\n",
              "        const dataTable =\n",
              "          await google.colab.kernel.invokeFunction('convertToInteractive',\n",
              "                                                    [key], {});\n",
              "        if (!dataTable) return;\n",
              "\n",
              "        const docLinkHtml = 'Like what you see? Visit the ' +\n",
              "          '<a target=\"_blank\" href=https://colab.research.google.com/notebooks/data_table.ipynb>data table notebook</a>'\n",
              "          + ' to learn more about interactive tables.';\n",
              "        element.innerHTML = '';\n",
              "        dataTable['output_type'] = 'display_data';\n",
              "        await google.colab.output.renderOutput(dataTable, element);\n",
              "        const docLink = document.createElement('div');\n",
              "        docLink.innerHTML = docLinkHtml;\n",
              "        element.appendChild(docLink);\n",
              "      }\n",
              "    </script>\n",
              "  </div>\n",
              "\n",
              "\n",
              "    <div id=\"df-b941ef1c-36df-4c0b-875d-9fa4d803d163\">\n",
              "      <button class=\"colab-df-quickchart\" onclick=\"quickchart('df-b941ef1c-36df-4c0b-875d-9fa4d803d163')\"\n",
              "                title=\"Suggest charts\"\n",
              "                style=\"display:none;\">\n",
              "\n",
              "<svg xmlns=\"http://www.w3.org/2000/svg\" height=\"24px\"viewBox=\"0 0 24 24\"\n",
              "     width=\"24px\">\n",
              "    <g>\n",
              "        <path d=\"M19 3H5c-1.1 0-2 .9-2 2v14c0 1.1.9 2 2 2h14c1.1 0 2-.9 2-2V5c0-1.1-.9-2-2-2zM9 17H7v-7h2v7zm4 0h-2V7h2v10zm4 0h-2v-4h2v4z\"/>\n",
              "    </g>\n",
              "</svg>\n",
              "      </button>\n",
              "\n",
              "<style>\n",
              "  .colab-df-quickchart {\n",
              "      --bg-color: #E8F0FE;\n",
              "      --fill-color: #1967D2;\n",
              "      --hover-bg-color: #E2EBFA;\n",
              "      --hover-fill-color: #174EA6;\n",
              "      --disabled-fill-color: #AAA;\n",
              "      --disabled-bg-color: #DDD;\n",
              "  }\n",
              "\n",
              "  [theme=dark] .colab-df-quickchart {\n",
              "      --bg-color: #3B4455;\n",
              "      --fill-color: #D2E3FC;\n",
              "      --hover-bg-color: #434B5C;\n",
              "      --hover-fill-color: #FFFFFF;\n",
              "      --disabled-bg-color: #3B4455;\n",
              "      --disabled-fill-color: #666;\n",
              "  }\n",
              "\n",
              "  .colab-df-quickchart {\n",
              "    background-color: var(--bg-color);\n",
              "    border: none;\n",
              "    border-radius: 50%;\n",
              "    cursor: pointer;\n",
              "    display: none;\n",
              "    fill: var(--fill-color);\n",
              "    height: 32px;\n",
              "    padding: 0;\n",
              "    width: 32px;\n",
              "  }\n",
              "\n",
              "  .colab-df-quickchart:hover {\n",
              "    background-color: var(--hover-bg-color);\n",
              "    box-shadow: 0 1px 2px rgba(60, 64, 67, 0.3), 0 1px 3px 1px rgba(60, 64, 67, 0.15);\n",
              "    fill: var(--button-hover-fill-color);\n",
              "  }\n",
              "\n",
              "  .colab-df-quickchart-complete:disabled,\n",
              "  .colab-df-quickchart-complete:disabled:hover {\n",
              "    background-color: var(--disabled-bg-color);\n",
              "    fill: var(--disabled-fill-color);\n",
              "    box-shadow: none;\n",
              "  }\n",
              "\n",
              "  .colab-df-spinner {\n",
              "    border: 2px solid var(--fill-color);\n",
              "    border-color: transparent;\n",
              "    border-bottom-color: var(--fill-color);\n",
              "    animation:\n",
              "      spin 1s steps(1) infinite;\n",
              "  }\n",
              "\n",
              "  @keyframes spin {\n",
              "    0% {\n",
              "      border-color: transparent;\n",
              "      border-bottom-color: var(--fill-color);\n",
              "      border-left-color: var(--fill-color);\n",
              "    }\n",
              "    20% {\n",
              "      border-color: transparent;\n",
              "      border-left-color: var(--fill-color);\n",
              "      border-top-color: var(--fill-color);\n",
              "    }\n",
              "    30% {\n",
              "      border-color: transparent;\n",
              "      border-left-color: var(--fill-color);\n",
              "      border-top-color: var(--fill-color);\n",
              "      border-right-color: var(--fill-color);\n",
              "    }\n",
              "    40% {\n",
              "      border-color: transparent;\n",
              "      border-right-color: var(--fill-color);\n",
              "      border-top-color: var(--fill-color);\n",
              "    }\n",
              "    60% {\n",
              "      border-color: transparent;\n",
              "      border-right-color: var(--fill-color);\n",
              "    }\n",
              "    80% {\n",
              "      border-color: transparent;\n",
              "      border-right-color: var(--fill-color);\n",
              "      border-bottom-color: var(--fill-color);\n",
              "    }\n",
              "    90% {\n",
              "      border-color: transparent;\n",
              "      border-bottom-color: var(--fill-color);\n",
              "    }\n",
              "  }\n",
              "</style>\n",
              "\n",
              "      <script>\n",
              "        async function quickchart(key) {\n",
              "          const quickchartButtonEl =\n",
              "            document.querySelector('#' + key + ' button');\n",
              "          quickchartButtonEl.disabled = true;  // To prevent multiple clicks.\n",
              "          quickchartButtonEl.classList.add('colab-df-spinner');\n",
              "          try {\n",
              "            const charts = await google.colab.kernel.invokeFunction(\n",
              "                'suggestCharts', [key], {});\n",
              "          } catch (error) {\n",
              "            console.error('Error during call to suggestCharts:', error);\n",
              "          }\n",
              "          quickchartButtonEl.classList.remove('colab-df-spinner');\n",
              "          quickchartButtonEl.classList.add('colab-df-quickchart-complete');\n",
              "        }\n",
              "        (() => {\n",
              "          let quickchartButtonEl =\n",
              "            document.querySelector('#df-b941ef1c-36df-4c0b-875d-9fa4d803d163 button');\n",
              "          quickchartButtonEl.style.display =\n",
              "            google.colab.kernel.accessAllowed ? 'block' : 'none';\n",
              "        })();\n",
              "      </script>\n",
              "    </div>\n",
              "\n",
              "    </div>\n",
              "  </div>\n"
            ],
            "application/vnd.google.colaboratory.intrinsic+json": {
              "type": "dataframe",
              "variable_name": "tienda",
              "summary": "{\n  \"name\": \"tienda\",\n  \"rows\": 2359,\n  \"fields\": [\n    {\n      \"column\": \"Producto\",\n      \"properties\": {\n        \"dtype\": \"category\",\n        \"num_unique_values\": 51,\n        \"samples\": [\n          \"Guitarra ac\\u00fastica\",\n          \"Bal\\u00f3n de baloncesto\",\n          \"Smartwatch\"\n        ],\n        \"semantic_type\": \"\",\n        \"description\": \"\"\n      }\n    },\n    {\n      \"column\": \"Categor\\u00eda del Producto\",\n      \"properties\": {\n        \"dtype\": \"category\",\n        \"num_unique_values\": 8,\n        \"samples\": [\n          \"Muebles\",\n          \"Deportes y diversi\\u00f3n\",\n          \"Electr\\u00f3nicos\"\n        ],\n        \"semantic_type\": \"\",\n        \"description\": \"\"\n      }\n    },\n    {\n      \"column\": \"Precio\",\n      \"properties\": {\n        \"dtype\": \"number\",\n        \"std\": 614686.7653873172,\n        \"min\": 7600.0,\n        \"max\": 2977000.0,\n        \"num_unique_values\": 1937,\n        \"samples\": [\n          2499400.0,\n          14800.0,\n          80500.0\n        ],\n        \"semantic_type\": \"\",\n        \"description\": \"\"\n      }\n    },\n    {\n      \"column\": \"Costo de env\\u00edo\",\n      \"properties\": {\n        \"dtype\": \"number\",\n        \"std\": 32860.0017825605,\n        \"min\": 0.0,\n        \"max\": 160800.0,\n        \"num_unique_values\": 753,\n        \"samples\": [\n          117800.0,\n          54700.0,\n          45600.0\n        ],\n        \"semantic_type\": \"\",\n        \"description\": \"\"\n      }\n    },\n    {\n      \"column\": \"Fecha de Compra\",\n      \"properties\": {\n        \"dtype\": \"object\",\n        \"num_unique_values\": 1018,\n        \"samples\": [\n          \"15/09/2022\",\n          \"03/06/2020\",\n          \"06/11/2021\"\n        ],\n        \"semantic_type\": \"\",\n        \"description\": \"\"\n      }\n    },\n    {\n      \"column\": \"Vendedor\",\n      \"properties\": {\n        \"dtype\": \"category\",\n        \"num_unique_values\": 14,\n        \"samples\": [\n          \"Juliana Costa\",\n          \"Mariana Herrera\",\n          \"Pedro Gomez\"\n        ],\n        \"semantic_type\": \"\",\n        \"description\": \"\"\n      }\n    },\n    {\n      \"column\": \"Lugar de Compra\",\n      \"properties\": {\n        \"dtype\": \"category\",\n        \"num_unique_values\": 19,\n        \"samples\": [\n          \"Bogot\\u00e1\",\n          \"Pereira\",\n          \"Neiva\"\n        ],\n        \"semantic_type\": \"\",\n        \"description\": \"\"\n      }\n    },\n    {\n      \"column\": \"Calificaci\\u00f3n\",\n      \"properties\": {\n        \"dtype\": \"number\",\n        \"std\": 1,\n        \"min\": 1,\n        \"max\": 5,\n        \"num_unique_values\": 5,\n        \"samples\": [\n          1,\n          2,\n          5\n        ],\n        \"semantic_type\": \"\",\n        \"description\": \"\"\n      }\n    },\n    {\n      \"column\": \"M\\u00e9todo de pago\",\n      \"properties\": {\n        \"dtype\": \"category\",\n        \"num_unique_values\": 4,\n        \"samples\": [\n          \"Nequi\",\n          \"Tarjeta de d\\u00e9bito\",\n          \"Tarjeta de cr\\u00e9dito\"\n        ],\n        \"semantic_type\": \"\",\n        \"description\": \"\"\n      }\n    },\n    {\n      \"column\": \"Cantidad de cuotas\",\n      \"properties\": {\n        \"dtype\": \"number\",\n        \"std\": 2,\n        \"min\": 1,\n        \"max\": 24,\n        \"num_unique_values\": 15,\n        \"samples\": [\n          7,\n          14,\n          8\n        ],\n        \"semantic_type\": \"\",\n        \"description\": \"\"\n      }\n    },\n    {\n      \"column\": \"lat\",\n      \"properties\": {\n        \"dtype\": \"number\",\n        \"std\": 2.2874452492678627,\n        \"min\": -4.21528,\n        \"max\": 11.54444,\n        \"num_unique_values\": 19,\n        \"samples\": [\n          4.60971,\n          4.81333,\n          2.9273\n        ],\n        \"semantic_type\": \"\",\n        \"description\": \"\"\n      }\n    },\n    {\n      \"column\": \"lon\",\n      \"properties\": {\n        \"dtype\": \"number\",\n        \"std\": 1.2178272727088486,\n        \"min\": -77.28111,\n        \"max\": -67.9239,\n        \"num_unique_values\": 19,\n        \"samples\": [\n          -74.08175,\n          -75.69611,\n          -75.28189\n        ],\n        \"semantic_type\": \"\",\n        \"description\": \"\"\n      }\n    }\n  ]\n}"
            }
          },
          "metadata": {},
          "execution_count": 51
        }
      ],
      "source": [
        "import pandas as pd\n",
        "import matplotlib.pyplot as plt\n",
        "\n",
        "url = \"https://raw.githubusercontent.com/alura-es-cursos/challenge1-data-science-latam/refs/heads/main/base-de-datos-challenge1-latam/tienda_1%20.csv\"\n",
        "url2 = \"https://raw.githubusercontent.com/alura-es-cursos/challenge1-data-science-latam/refs/heads/main/base-de-datos-challenge1-latam/tienda_2.csv\"\n",
        "url3 = \"https://raw.githubusercontent.com/alura-es-cursos/challenge1-data-science-latam/refs/heads/main/base-de-datos-challenge1-latam/tienda_3.csv\"\n",
        "url4 = \"https://raw.githubusercontent.com/alura-es-cursos/challenge1-data-science-latam/refs/heads/main/base-de-datos-challenge1-latam/tienda_4.csv\"\n",
        "\n",
        "tienda = pd.read_csv(url)\n",
        "tienda2 = pd.read_csv(url2)\n",
        "tienda3 = pd.read_csv(url3)\n",
        "tienda4 = pd.read_csv(url4)\n",
        "\n",
        "# Lista para iterar\n",
        "tiendas = [tienda, tienda2, tienda3, tienda4]\n",
        "nombres_tiendas = [\"Tienda 1\", \"Tienda 2\", \"Tienda 3\", \"Tienda 4\"]\n",
        "\n",
        "tienda.head()"
      ]
    },
    {
      "cell_type": "markdown",
      "source": [
        "#1. Análisis de facturación\n"
      ],
      "metadata": {
        "id": "X62IW3KFUIYm"
      }
    },
    {
      "cell_type": "code",
      "source": [
        "facturacion = {}\n",
        "for i, df in enumerate(tiendas):\n",
        "    facturacion[nombres_tiendas[i]] = df[\"Precio\"].sum()\n",
        "facturacion_df = pd.DataFrame(list(facturacion.items()), columns=[\"Tienda\", \"Ingreso Total\"])\n",
        "print(\"Ingreso total por tienda:\")\n",
        "print(facturacion_df)"
      ],
      "metadata": {
        "id": "xykobSftV64I",
        "colab": {
          "base_uri": "https://localhost:8080/"
        },
        "outputId": "12e6c4c4-2177-4aa2-b150-0b30979cd2d8"
      },
      "execution_count": 41,
      "outputs": [
        {
          "output_type": "stream",
          "name": "stdout",
          "text": [
            "Ingreso total por tienda:\n",
            "     Tienda  Ingreso Total\n",
            "0  Tienda 1   1.150880e+09\n",
            "1  Tienda 2   1.116344e+09\n",
            "2  Tienda 3   1.098020e+09\n",
            "3  Tienda 4   1.038376e+09\n"
          ]
        }
      ]
    },
    {
      "cell_type": "markdown",
      "source": [
        "# 2. Ventas por categoría"
      ],
      "metadata": {
        "id": "2V_vcAPzWZmR"
      }
    },
    {
      "cell_type": "code",
      "source": [
        "ventas_categoria = {}\n",
        "for i, df in enumerate(tiendas):\n",
        "    ventas_categoria[nombres_tiendas[i]] = df.groupby(\"Categoría del Producto\")[\"Producto\"].count().sort_values(ascending=False)\n",
        "    print(f\"\\nVentas por categoría - {nombres_tiendas[i]}:\")\n",
        "    print(ventas_categoria[nombres_tiendas[i]])"
      ],
      "metadata": {
        "id": "A34YupIuYhfF",
        "colab": {
          "base_uri": "https://localhost:8080/"
        },
        "outputId": "c0b90964-a8f3-4964-a7e7-00384b6bde20"
      },
      "execution_count": 42,
      "outputs": [
        {
          "output_type": "stream",
          "name": "stdout",
          "text": [
            "\n",
            "Ventas por categoría - Tienda 1:\n",
            "Categoría del Producto\n",
            "Muebles                    465\n",
            "Electrónicos               448\n",
            "Juguetes                   324\n",
            "Electrodomésticos          312\n",
            "Deportes y diversión       284\n",
            "Instrumentos musicales     182\n",
            "Libros                     173\n",
            "Artículos para el hogar    171\n",
            "Name: Producto, dtype: int64\n",
            "\n",
            "Ventas por categoría - Tienda 2:\n",
            "Categoría del Producto\n",
            "Muebles                    442\n",
            "Electrónicos               422\n",
            "Juguetes                   313\n",
            "Electrodomésticos          305\n",
            "Deportes y diversión       275\n",
            "Instrumentos musicales     224\n",
            "Libros                     197\n",
            "Artículos para el hogar    181\n",
            "Name: Producto, dtype: int64\n",
            "\n",
            "Ventas por categoría - Tienda 3:\n",
            "Categoría del Producto\n",
            "Muebles                    499\n",
            "Electrónicos               451\n",
            "Juguetes                   315\n",
            "Electrodomésticos          278\n",
            "Deportes y diversión       277\n",
            "Libros                     185\n",
            "Artículos para el hogar    177\n",
            "Instrumentos musicales     177\n",
            "Name: Producto, dtype: int64\n",
            "\n",
            "Ventas por categoría - Tienda 4:\n",
            "Categoría del Producto\n",
            "Muebles                    480\n",
            "Electrónicos               451\n",
            "Juguetes                   338\n",
            "Deportes y diversión       277\n",
            "Electrodomésticos          254\n",
            "Artículos para el hogar    201\n",
            "Libros                     187\n",
            "Instrumentos musicales     170\n",
            "Name: Producto, dtype: int64\n"
          ]
        }
      ]
    },
    {
      "cell_type": "markdown",
      "source": [
        "# 3. Calificación promedio de la tienda\n"
      ],
      "metadata": {
        "id": "Rq6tU_xSY3jk"
      }
    },
    {
      "cell_type": "code",
      "source": [
        "calificacion_promedio = {}\n",
        "for i, df in enumerate(tiendas):\n",
        "    calificacion_promedio[nombres_tiendas[i]] = df[\"Calificación\"].mean()\n",
        "calificacion_df = pd.DataFrame(list(calificacion_promedio.items()), columns=[\"Tienda\", \"Calificación Promedio\"])\n",
        "print(\"\\nCalificación promedio por tienda:\")\n",
        "print(calificacion_df)"
      ],
      "metadata": {
        "id": "bh3jjjJwY5MU",
        "colab": {
          "base_uri": "https://localhost:8080/"
        },
        "outputId": "cc8384b7-fd17-467c-c8d6-5f1b69e079e9"
      },
      "execution_count": 43,
      "outputs": [
        {
          "output_type": "stream",
          "name": "stdout",
          "text": [
            "\n",
            "Calificación promedio por tienda:\n",
            "     Tienda  Calificación Promedio\n",
            "0  Tienda 1               3.976685\n",
            "1  Tienda 2               4.037304\n",
            "2  Tienda 3               4.048326\n",
            "3  Tienda 4               3.995759\n"
          ]
        }
      ]
    },
    {
      "cell_type": "markdown",
      "source": [
        "# 4. Productos más y menos vendidos"
      ],
      "metadata": {
        "id": "DmNp1KPBZCm-"
      }
    },
    {
      "cell_type": "code",
      "source": [
        "productos_extremos = {}\n",
        "for i, df in enumerate(tiendas):\n",
        "    conteo_productos = df.groupby(\"Producto\")[\"Producto\"].count().sort_values(ascending=False)\n",
        "    productos_extremos[nombres_tiendas[i]] = {\n",
        "        \"mas_vendido\": conteo_productos.head(1),\n",
        "        \"menos_vendido\": conteo_productos.tail(1)\n",
        "    }\n",
        "    print(f\"\\n{nombres_tiendas[i]} - Producto más vendido:\")\n",
        "    print(productos_extremos[nombres_tiendas[i]][\"mas_vendido\"])\n",
        "    print(f\"{nombres_tiendas[i]} - Producto menos vendido:\")\n",
        "    print(productos_extremos[nombres_tiendas[i]][\"menos_vendido\"])"
      ],
      "metadata": {
        "id": "0Sw3sd4IZIGW",
        "colab": {
          "base_uri": "https://localhost:8080/"
        },
        "outputId": "a9fffa63-bd46-4cdc-a18e-f6e2616c270d"
      },
      "execution_count": 44,
      "outputs": [
        {
          "output_type": "stream",
          "name": "stdout",
          "text": [
            "\n",
            "Tienda 1 - Producto más vendido:\n",
            "Producto\n",
            "Armario    60\n",
            "Name: Producto, dtype: int64\n",
            "Tienda 1 - Producto menos vendido:\n",
            "Producto\n",
            "Auriculares con micrófono    33\n",
            "Name: Producto, dtype: int64\n",
            "\n",
            "Tienda 2 - Producto más vendido:\n",
            "Producto\n",
            "Iniciando en programación    65\n",
            "Name: Producto, dtype: int64\n",
            "Tienda 2 - Producto menos vendido:\n",
            "Producto\n",
            "Juego de mesa    32\n",
            "Name: Producto, dtype: int64\n",
            "\n",
            "Tienda 3 - Producto más vendido:\n",
            "Producto\n",
            "Kit de bancas    57\n",
            "Name: Producto, dtype: int64\n",
            "Tienda 3 - Producto menos vendido:\n",
            "Producto\n",
            "Bloques de construcción    35\n",
            "Name: Producto, dtype: int64\n",
            "\n",
            "Tienda 4 - Producto más vendido:\n",
            "Producto\n",
            "Cama box    62\n",
            "Name: Producto, dtype: int64\n",
            "Tienda 4 - Producto menos vendido:\n",
            "Producto\n",
            "Guitarra eléctrica    33\n",
            "Name: Producto, dtype: int64\n"
          ]
        }
      ]
    },
    {
      "cell_type": "markdown",
      "source": [
        "# 5. Envío promedio por tienda"
      ],
      "metadata": {
        "id": "Fl0cGi3bZKqU"
      }
    },
    {
      "cell_type": "code",
      "source": [
        "envio_promedio = {}\n",
        "for i, df in enumerate(tiendas):\n",
        "    envio_promedio[nombres_tiendas[i]] = df[\"Costo de envío\"].mean()\n",
        "envio_df = pd.DataFrame(list(envio_promedio.items()), columns=[\"Tienda\", \"Costo de envío promedio\"])\n",
        "print(\"\\nCosto de envío promedio por tienda:\")\n",
        "print(envio_df)"
      ],
      "metadata": {
        "id": "S2JeaCykZNy9",
        "colab": {
          "base_uri": "https://localhost:8080/"
        },
        "outputId": "6f06c5b8-a6cd-4c74-8161-bb8cfa27104e"
      },
      "execution_count": 45,
      "outputs": [
        {
          "output_type": "stream",
          "name": "stdout",
          "text": [
            "\n",
            "Costo de envío promedio por tienda:\n",
            "     Tienda  Costo de envío promedio\n",
            "0  Tienda 1             26018.609580\n",
            "1  Tienda 2             25216.235693\n",
            "2  Tienda 3             24805.680373\n",
            "3  Tienda 4             23459.457167\n"
          ]
        }
      ]
    },
    {
      "cell_type": "markdown",
      "source": [
        "# 6. Graficos"
      ],
      "metadata": {
        "id": "hPMHqTZGppsN"
      }
    },
    {
      "cell_type": "code",
      "source": [
        "# Gráfico 1: Ingreso total por tienda\n",
        "plt.figure(figsize=(8,5))\n",
        "plt.bar(facturacion_df[\"Tienda\"], facturacion_df[\"Ingreso Total\"], color=\"skyblue\")\n",
        "plt.title(\"Ingreso total por tienda\")\n",
        "plt.ylabel(\"Ingreso Total (S/)\")\n",
        "plt.show()\n",
        "\n",
        "# Gráfico 2: Ventas por categoría - Ejemplo Tienda 1\n",
        "plt.figure(figsize=(8,5))\n",
        "ventas_categoria[\"Tienda 1\"].plot(kind=\"bar\", color=\"orange\")\n",
        "plt.title(\"Ventas por categoría - Tienda 1\")\n",
        "plt.ylabel(\"Cantidad de ventas\")\n",
        "plt.xticks(rotation=45)\n",
        "plt.show()\n",
        "\n",
        "# Gráfico 3: Calificación promedio por tienda\n",
        "plt.figure(figsize=(8,5))\n",
        "plt.bar(calificacion_df[\"Tienda\"], calificacion_df[\"Calificación Promedio\"], color=\"green\")\n",
        "plt.title(\"Calificación promedio por tienda\")\n",
        "plt.ylabel(\"Calificación Promedio\")\n",
        "plt.ylim(0, 5)\n",
        "plt.show()"
      ],
      "metadata": {
        "id": "0tSdCie9ZQlt",
        "colab": {
          "base_uri": "https://localhost:8080/",
          "height": 1000
        },
        "outputId": "5fab7f60-0a79-44e7-a018-d26a9eb12eb9"
      },
      "execution_count": 46,
      "outputs": [
        {
          "output_type": "display_data",
          "data": {
            "text/plain": [
              "<Figure size 800x500 with 1 Axes>"
            ],
            "image/png": "[encoded data removed]"
          },
          "metadata": {}
        },
        {
          "output_type": "display_data",
          "data": {
            "text/plain": [
              "<Figure size 800x500 with 1 Axes>"
            ],
            "image/png": "[encoded data removed]"
          },
          "metadata": {}
        },
        {
          "output_type": "display_data",
          "data": {
            "text/plain": [
              "<Figure size 800x500 with 1 Axes>"
            ],
            "image/png": "[encoded data removed]"
          },
          "metadata": {}
        }
      ]
    },
    {
      "cell_type": "markdown",
      "source": [
        "# 7. Recomendación de tienda a vender - tienda recomendada"
      ],
      "metadata": {
        "id": "RQomoMhvt4_l"
      }
    },
    {
      "cell_type": "code",
      "source": [
        "ranking = facturacion_df.merge(calificacion_df, on=\"Tienda\").merge(envio_df, on=\"Tienda\")\n",
        "ranking[\"Puntaje\"] = ranking[\"Ingreso Total\"].rank(ascending=False) + ranking[\"Calificación Promedio\"].rank(ascending=False) + ranking[\"Costo de envío promedio\"].rank(ascending=True)\n",
        "ranking = ranking.sort_values(\"Puntaje\", ascending=False)\n",
        "\n",
        "print(\"\\nRanking de tiendas (mayor puntaje = peor desempeño):\")\n",
        "print(ranking)\n",
        "\n",
        "tienda_a_vender = ranking.iloc[0][\"Tienda\"]\n",
        "print(f\"\\n Recomendación: El Sr. Juan debería vender **{tienda_a_vender}**, ya que presenta el desempeño general más bajo.\")\n",
        "\n",
        "indice_tienda = nombres_tiendas.index(tienda_a_vender)\n",
        "df_tienda_recomendada = tiendas[indice_tienda]\n",
        "\n",
        "# Categorías más y menos vendidas\n",
        "categorias_menos = df_tienda_recomendada.groupby(\"Categoría del Producto\")[\"Producto\"].count().sort_values().head(3)\n",
        "categorias_mas = df_tienda_recomendada.groupby(\"Categoría del Producto\")[\"Producto\"].count().sort_values(ascending=False).head(3)\n",
        "\n",
        "print(f\"\\nAnálisis detallado de {tienda_a_vender}:\")\n",
        "print(\"\\nCategorías más vendidas:\")\n",
        "print(categorias_mas)\n",
        "print(\"\\nCategorías menos vendidas:\")\n",
        "print(categorias_menos)\n",
        "\n",
        "print(\"\\nProducto más vendido:\")\n",
        "print(productos_extremos[tienda_a_vender][\"mas_vendido\"])\n",
        "print(\"\\nProducto menos vendido:\")\n",
        "print(productos_extremos[tienda_a_vender][\"menos_vendido\"])"
      ],
      "metadata": {
        "colab": {
          "base_uri": "https://localhost:8080/"
        },
        "id": "cdXbYvf8t_Rl",
        "outputId": "e1739adf-1561-479c-f08e-5725cee0a5d1"
      },
      "execution_count": 47,
      "outputs": [
        {
          "output_type": "stream",
          "name": "stdout",
          "text": [
            "\n",
            "Ranking de tiendas (mayor puntaje = peor desempeño):\n",
            "     Tienda  Ingreso Total  Calificación Promedio  Costo de envío promedio  \\\n",
            "0  Tienda 1   1.150880e+09               3.976685             26018.609580   \n",
            "3  Tienda 4   1.038376e+09               3.995759             23459.457167   \n",
            "1  Tienda 2   1.116344e+09               4.037304             25216.235693   \n",
            "2  Tienda 3   1.098020e+09               4.048326             24805.680373   \n",
            "\n",
            "   Puntaje  \n",
            "0      9.0  \n",
            "3      8.0  \n",
            "1      7.0  \n",
            "2      6.0  \n",
            "\n",
            " Recomendación: El Sr. Juan debería vender **Tienda 1**, ya que presenta el desempeño general más bajo.\n",
            "\n",
            "Análisis detallado de Tienda 1:\n",
            "\n",
            "Categorías más vendidas:\n",
            "Categoría del Producto\n",
            "Muebles         465\n",
            "Electrónicos    448\n",
            "Juguetes        324\n",
            "Name: Producto, dtype: int64\n",
            "\n",
            "Categorías menos vendidas:\n",
            "Categoría del Producto\n",
            "Artículos para el hogar    171\n",
            "Libros                     173\n",
            "Instrumentos musicales     182\n",
            "Name: Producto, dtype: int64\n",
            "\n",
            "Producto más vendido:\n",
            "Producto\n",
            "Armario    60\n",
            "Name: Producto, dtype: int64\n",
            "\n",
            "Producto menos vendido:\n",
            "Producto\n",
            "Auriculares con micrófono    33\n",
            "Name: Producto, dtype: int64\n"
          ]
        }
      ]
    }
  ]
}